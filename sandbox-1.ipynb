{
 "cells": [
  {
   "cell_type": "code",
   "execution_count": 7,
   "metadata": {},
   "outputs": [],
   "source": [
    "import numpy as np\n",
    "\n",
    "def is_numerical_array(array: np.ndarray):\n",
    "    \"\"\"\n",
    "    Checks if the input is a numerical NumPy array.\n",
    "\n",
    "    Parameters:\n",
    "    array (np.ndarray): The array to check.\n",
    "\n",
    "    Returns:\n",
    "    bool: True if the array is a numerical NumPy array, False otherwise.\n",
    "    \"\"\"\n",
    "    return isinstance(array, np.ndarray) and np.issubdtype(array.dtype, np.number)\n",
    "\n",
    "\n",
    "def is_3d_numpy_vector(vector: np.ndarray):\n",
    "    \"\"\"\n",
    "    Checks if the input is a 3-dimensional numerical vector represented as a NumPy array.\n",
    "\n",
    "    Parameters:\n",
    "    vector (np.ndarray): The vector to check.\n",
    "\n",
    "    Returns:\n",
    "    bool: True if the vector is a 3-dimensional NumPy array, False otherwise.\n",
    "    \"\"\"\n",
    "    return is_numerical_array(vector) and vector.ndim == 1 and vector.shape[0] == 3\n",
    "\n",
    "def validate_3d_numpy_vector(vector:np.ndarray):\n",
    "    \"\"\"\n",
    "    Validates that the input is a 3-dimensional vector represented as a NumPy array.\n",
    "\n",
    "    Parameters:\n",
    "    vector (np.ndarray): The vector to validate.\n",
    "\n",
    "    Raises:\n",
    "    ValueError: If the input is not a 3-dimensional NumPy array.\n",
    "    \"\"\"\n",
    "    if not is_3d_numpy_vector(vector):\n",
    "        raise ValueError((\n",
    "            \"Input is not a 3-dimensional numpy vector \",\n",
    "            f\"Current shape: {vector.shape}\" if isinstance(vector, np.ndarray) \\\n",
    "            else f\"Current type: {type(vector)}\"))\n",
    "\n",
    "def is_3d_numpy_numeric_vector(vector: np.ndarray):\n",
    "    \"\"\"\n",
    "    Checks if the input is a 3-dimensional numeric vector represented as a NumPy array.\n",
    "\n",
    "    Parameters:\n",
    "    vector (np.ndarray): The vector to check.\n",
    "\n",
    "    Returns:\n",
    "    bool: True if the vector is a 3-dimensional numeric NumPy array, False otherwise.\n",
    "    \"\"\"\n",
    "    return is_3d_numpy_vector(vector) and np.issubdtype(vector.dtype, np.number)"
   ]
  },
  {
   "cell_type": "code",
   "execution_count": 12,
   "metadata": {},
   "outputs": [
    {
     "name": "stdout",
     "output_type": "stream",
     "text": [
      "Average CPU time for v1: 0.0000001206 seconds\n",
      "Average CPU time for v2: 0.0000000669 seconds\n",
      "Average CPU time for v3: 0.0000000960 seconds\n",
      "['1' '2' '3']\n"
     ]
    }
   ],
   "source": [
    "import numpy as np\n",
    "import time\n",
    "\n",
    "def is_3d_vector(vector):\n",
    "    \"\"\"\n",
    "    Checks if the input is a 3-dimensional vector represented as a NumPy array.\n",
    "\n",
    "    Parameters:\n",
    "    vector (np.ndarray): The vector to check.\n",
    "\n",
    "    Returns:\n",
    "    bool: True if the vector is a 3-dimensional NumPy array, False otherwise.\n",
    "    \"\"\"\n",
    "    return isinstance(vector, np.ndarray) and vector.ndim == 1 and vector.shape[0] == 3\n",
    "\n",
    "def evaluate_cpu_time(func, *args, iterations=1000000):\n",
    "    \"\"\"\n",
    "    Evaluates the CPU time of a function.\n",
    "\n",
    "    Parameters:\n",
    "    func (callable): The function to evaluate.\n",
    "    *args: Arguments to pass to the function.\n",
    "    iterations (int): Number of times to run the function.\n",
    "\n",
    "    Returns:\n",
    "    float: The average CPU time per function call in seconds.\n",
    "    \"\"\"\n",
    "    start_time = time.process_time()\n",
    "    for _ in range(iterations):\n",
    "        func(*args)\n",
    "    end_time = time.process_time()\n",
    "    return (end_time - start_time) / iterations\n",
    "\n",
    "# Example vectors\n",
    "v1 = np.array([1, 2, 3])\n",
    "v2 = np.array([[1, 2, 3]])\n",
    "v3 = np.array([1, 2, 3, 4])\n",
    "\n",
    "# Evaluating CPU time\n",
    "avg_time_v1 = evaluate_cpu_time(is_3d_vector, v1)\n",
    "avg_time_v2 = evaluate_cpu_time(is_3d_vector, v2)\n",
    "avg_time_v3 = evaluate_cpu_time(is_3d_vector, v3)\n",
    "\n",
    "print(f\"Average CPU time for v1: {avg_time_v1:.10f} seconds\")\n",
    "print(f\"Average CPU time for v2: {avg_time_v2:.10f} seconds\")\n",
    "print(f\"Average CPU time for v3: {avg_time_v3:.10f} seconds\")\n",
    "tt = np.array([1, 2, \"3\"])\n",
    "print(tt)\n"
   ]
  },
  {
   "cell_type": "code",
   "execution_count": 1,
   "metadata": {},
   "outputs": [
    {
     "ename": "KeyError",
     "evalue": "\"'titi' is not a valid ellipsoid model name. Available names are: WGS84, Spherical Earth\"",
     "output_type": "error",
     "traceback": [
      "\u001b[0;31m---------------------------------------------------------------------------\u001b[0m",
      "\u001b[0;31mKeyError\u001b[0m                                  Traceback (most recent call last)",
      "File \u001b[0;32m~/Z/yggdrasil/yggdrasil/earth/earth_ellipsoid_model.py:177\u001b[0m, in \u001b[0;36mearth_ellipsoid_model\u001b[0;34m(name)\u001b[0m\n\u001b[1;32m    176\u001b[0m \u001b[38;5;28;01mtry\u001b[39;00m:\n\u001b[0;32m--> 177\u001b[0m     \u001b[38;5;28;01mreturn\u001b[39;00m \u001b[43mAVAILABLE_ELLIPSOIDS\u001b[49m\u001b[43m[\u001b[49m\u001b[43mname\u001b[49m\u001b[43m]\u001b[49m\n\u001b[1;32m    178\u001b[0m \u001b[38;5;28;01mexcept\u001b[39;00m \u001b[38;5;167;01mKeyError\u001b[39;00m \u001b[38;5;28;01mas\u001b[39;00m e:\n",
      "\u001b[0;31mKeyError\u001b[0m: 'titi'",
      "\nThe above exception was the direct cause of the following exception:\n",
      "\u001b[0;31mKeyError\u001b[0m                                  Traceback (most recent call last)",
      "Cell \u001b[0;32mIn[1], line 4\u001b[0m\n\u001b[1;32m      1\u001b[0m \u001b[38;5;28;01mfrom\u001b[39;00m \u001b[38;5;21;01myggdrasil\u001b[39;00m\u001b[38;5;21;01m.\u001b[39;00m\u001b[38;5;21;01mearth\u001b[39;00m \u001b[38;5;28;01mimport\u001b[39;00m earth_ellipsoid_model\n\u001b[0;32m----> 4\u001b[0m a \u001b[38;5;241m=\u001b[39m \u001b[43mearth_ellipsoid_model\u001b[49m\u001b[43m(\u001b[49m\u001b[38;5;124;43m'\u001b[39;49m\u001b[38;5;124;43mtiti\u001b[39;49m\u001b[38;5;124;43m'\u001b[39;49m\u001b[43m)\u001b[49m\n\u001b[1;32m      5\u001b[0m \u001b[38;5;28mprint\u001b[39m(a)\n",
      "File \u001b[0;32m~/Z/yggdrasil/yggdrasil/earth/earth_ellipsoid_model.py:180\u001b[0m, in \u001b[0;36mearth_ellipsoid_model\u001b[0;34m(name)\u001b[0m\n\u001b[1;32m    178\u001b[0m \u001b[38;5;28;01mexcept\u001b[39;00m \u001b[38;5;167;01mKeyError\u001b[39;00m \u001b[38;5;28;01mas\u001b[39;00m e:\n\u001b[1;32m    179\u001b[0m     available_keys \u001b[38;5;241m=\u001b[39m \u001b[38;5;124m\"\u001b[39m\u001b[38;5;124m, \u001b[39m\u001b[38;5;124m\"\u001b[39m\u001b[38;5;241m.\u001b[39mjoin(AVAILABLE_ELLIPSOIDS\u001b[38;5;241m.\u001b[39mkeys())\n\u001b[0;32m--> 180\u001b[0m     \u001b[38;5;28;01mraise\u001b[39;00m \u001b[38;5;167;01mKeyError\u001b[39;00m(\n\u001b[1;32m    181\u001b[0m         \u001b[38;5;124mf\u001b[39m\u001b[38;5;124m\"\u001b[39m\u001b[38;5;124m'\u001b[39m\u001b[38;5;132;01m{\u001b[39;00mname\u001b[38;5;132;01m}\u001b[39;00m\u001b[38;5;124m'\u001b[39m\u001b[38;5;124m is not a valid ellipsoid model name.\u001b[39m\u001b[38;5;124m\"\u001b[39m\n\u001b[1;32m    182\u001b[0m         \u001b[38;5;124mf\u001b[39m\u001b[38;5;124m\"\u001b[39m\u001b[38;5;124m Available names are: \u001b[39m\u001b[38;5;132;01m{\u001b[39;00mavailable_keys\u001b[38;5;132;01m}\u001b[39;00m\u001b[38;5;124m\"\u001b[39m) \u001b[38;5;28;01mfrom\u001b[39;00m \u001b[38;5;21;01me\u001b[39;00m\n",
      "\u001b[0;31mKeyError\u001b[0m: \"'titi' is not a valid ellipsoid model name. Available names are: WGS84, Spherical Earth\""
     ]
    }
   ],
   "source": [
    "from yggdrasil.earth import earth_ellipsoid_model\n",
    "\n",
    "\n",
    "a = earth_ellipsoid_model('titi')\n",
    "print(a)"
   ]
  },
  {
   "cell_type": "code",
   "execution_count": 13,
   "metadata": {},
   "outputs": [
    {
     "name": "stdout",
     "output_type": "stream",
     "text": [
      "True\n",
      "False\n",
      "False\n",
      "True\n"
     ]
    },
    {
     "data": {
      "text/plain": [
       "4.7603799999999996e-07"
      ]
     },
     "execution_count": 13,
     "metadata": {},
     "output_type": "execute_result"
    }
   ],
   "source": [
    "import numpy as np\n",
    "from numpy.typing import NDArray\n",
    "\n",
    "def is_3x3_numerical_matrix(matrix: NDArray[np.float64]) -> bool:\n",
    "    \"\"\"\n",
    "    Checks if the input is a 3x3 numerical matrix.\n",
    "\n",
    "    Parameters:\n",
    "        matrix (NDArray[np.float64]): The matrix to check.\n",
    "\n",
    "    Returns:\n",
    "        bool: True if the matrix is a 3x3 numerical matrix, False otherwise.\n",
    "    \"\"\"\n",
    "    return isinstance(matrix, np.ndarray) and matrix.shape == (3, 3) and np.issubdtype(matrix.dtype, np.number)\n",
    "\n",
    "# Example usage\n",
    "valid_matrix = np.array([[1.0, 2.0, 3.0], [4.0, 5.0, 6.0], [7.0, 8.0, 9.0]])\n",
    "int_matrix = np.array([[1, 2, 3], [4, 5, 6], [7, 8, 9]])  # Integer\n",
    "invalid_matrix = np.array([[1.0, 2.0], [3.0, 4.0]])  # Not 3x3\n",
    "non_numeric_matrix = np.array([[\"a\", \"b\", \"c\"], [\"d\", \"e\", \"f\"], [\"g\", \"h\", \"i\"]])  # Non-numeric\n",
    "print(is_3x3_numerical_matrix(valid_matrix))  # Should return True\n",
    "print(is_3x3_numerical_matrix(invalid_matrix))  # Should return False\n",
    "print(is_3x3_numerical_matrix(non_numeric_matrix))  # Should return False\n",
    "print(is_3x3_numerical_matrix(int_matrix))  # Should return True\n",
    "\n",
    "\n",
    "evaluate_cpu_time(is_3x3_numerical_matrix, valid_matrix)\n",
    "# evaluate_cpu_time(is_3x3_numerical_matrix, invalid_matrix)\n",
    "# evaluate_cpu_time(is_3x3_numerical_matrix, non_numeric_matrix)\n",
    "# evaluate_cpu_time(is_3x3_numerical_matrix, int_matrix)\n"
   ]
  },
  {
   "cell_type": "code",
   "execution_count": 14,
   "metadata": {},
   "outputs": [
    {
     "ename": "TypeError",
     "evalue": "Too many arguments for numpy.ndarray[typing.Any, numpy.dtype[+_ScalarType_co]]; actual 2, expected 1",
     "output_type": "error",
     "traceback": [
      "\u001b[0;31m---------------------------------------------------------------------------\u001b[0m",
      "\u001b[0;31mTypeError\u001b[0m                                 Traceback (most recent call last)",
      "Cell \u001b[0;32mIn[14], line 6\u001b[0m\n\u001b[1;32m      3\u001b[0m \u001b[38;5;28;01mfrom\u001b[39;00m \u001b[38;5;21;01mnumpy\u001b[39;00m\u001b[38;5;21;01m.\u001b[39;00m\u001b[38;5;21;01mtyping\u001b[39;00m \u001b[38;5;28;01mimport\u001b[39;00m NDArray\n\u001b[1;32m      5\u001b[0m \u001b[38;5;66;03m# Define a type alias for a 3x3 numerical matrix\u001b[39;00m\n\u001b[0;32m----> 6\u001b[0m Matrix3x3 \u001b[38;5;241m=\u001b[39m \u001b[43mNDArray\u001b[49m\u001b[43m[\u001b[49m\u001b[43mTuple\u001b[49m\u001b[43m[\u001b[49m\u001b[38;5;241;43m3\u001b[39;49m\u001b[43m,\u001b[49m\u001b[43m \u001b[49m\u001b[38;5;241;43m3\u001b[39;49m\u001b[43m]\u001b[49m\u001b[43m,\u001b[49m\u001b[43m \u001b[49m\u001b[43mnp\u001b[49m\u001b[38;5;241;43m.\u001b[39;49m\u001b[43mfloat64\u001b[49m\u001b[43m]\u001b[49m\n\u001b[1;32m      8\u001b[0m \u001b[38;5;66;03m# Example function using the type hint\u001b[39;00m\n\u001b[1;32m      9\u001b[0m \u001b[38;5;28;01mdef\u001b[39;00m \u001b[38;5;21mcreate_3x3_matrix\u001b[39m() \u001b[38;5;241m-\u001b[39m\u001b[38;5;241m>\u001b[39m Matrix3x3:\n",
      "\u001b[0;31mTypeError\u001b[0m: Too many arguments for numpy.ndarray[typing.Any, numpy.dtype[+_ScalarType_co]]; actual 2, expected 1"
     ]
    }
   ],
   "source": [
    "from typing import Annotated, Literal, TypeVar\n",
    "\n",
    "import numpy as np\n",
    "\n",
    "# Define a type variable for the data type\n",
    "DType = TypeVar(\"DType\", bound=np.generic)\n",
    "\n",
    "# Create type aliases for arrays with specific shapes\n",
    "Array4 = Annotated[np.typing.NDArray[DType], Literal[4]]\n",
    "Array3x3 = Annotated[np.typing.NDArray[DType], Literal[3, 3]]\n",
    "ArrayNxNx3 = Annotated[np.typing.NDArray[DType], Literal[\"N\", \"N\", 3]]\n",
    "\n",
    "# Example usage with type checking\n",
    "def foo(arr: Array4[np.int32]) -> None:\n",
    "  \"\"\"\n",
    "  Example function that expects an ndarray with shape (4,) and dtype int32\n",
    "\n",
    "  Args:\n",
    "      arr: The input ndarray\n",
    "  \"\"\"\n",
    "  assert arr.shape == (4,)\n",
    "  assert np.issubdtype(arr.dtype, np.int32)\n",
    "  # Do something with the array\n",
    "\n",
    "# Example usage\n",
    "some_array = np.array([1, 2, 3, 4], dtype=np.int32)\n",
    "foo(some_array)\n"
   ]
  },
  {
   "cell_type": "code",
   "execution_count": 16,
   "metadata": {},
   "outputs": [
    {
     "name": "stdout",
     "output_type": "stream",
     "text": [
      "[[1. 2. 3.]\n",
      " [4. 5. 6.]\n",
      " [7. 8. 9.]]\n"
     ]
    },
    {
     "ename": "BeartypeDecorHintPep604Exception",
     "evalue": "Type hint NDArray[Shape['3, 3'], Float] inconsistent with respect to repr() strings. Since @beartype requires consistency between type hints and repr() strings, this hint is unsupported by @beartype. Consider reporting this issue to the third-party developer implementing this hint: e.g.,\n\t>>> repr(NDArray[Shape['3, 3'], Float])\n\tNDArray[Shape['3, 3'], Float]  # <-- this is fine\n\t>>> repr(NDArray[Shape['3, 3'], Float] | int)\n\tnptyping.ndarray.NDArray | int  # <-- *THIS IS REALLY SUPER BAD*\n\n\t# Ideally, that output should instead resemble:\n\t>>> repr(NDArray[Shape['3, 3'], Float] | int)\n\tNDArray[Shape['3, 3'], Float] | int  # <-- what @beartype wants!",
     "output_type": "error",
     "traceback": [
      "\u001b[0;31m---------------------------------------------------------------------------\u001b[0m",
      "\u001b[0;31mBeartypeDecorHintPep604Exception\u001b[0m          Traceback (most recent call last)",
      "Cell \u001b[0;32mIn[16], line 28\u001b[0m\n\u001b[1;32m     25\u001b[0m \u001b[38;5;66;03m# Validate the type and shape of the matrix\u001b[39;00m\n\u001b[1;32m     26\u001b[0m \u001b[38;5;28;01massert\u001b[39;00m matrix\u001b[38;5;241m.\u001b[39mshape \u001b[38;5;241m==\u001b[39m (\u001b[38;5;241m3\u001b[39m, \u001b[38;5;241m3\u001b[39m) \u001b[38;5;129;01mand\u001b[39;00m matrix\u001b[38;5;241m.\u001b[39mdtype \u001b[38;5;241m==\u001b[39m np\u001b[38;5;241m.\u001b[39mfloat64\n\u001b[0;32m---> 28\u001b[0m \u001b[38;5;129;43m@beartype\u001b[39;49m\n\u001b[1;32m     29\u001b[0m \u001b[38;5;28;43;01mdef\u001b[39;49;00m\u001b[43m \u001b[49m\u001b[38;5;21;43mtest_fct\u001b[39;49m\u001b[43m(\u001b[49m\u001b[43mmatrix\u001b[49m\u001b[43m:\u001b[49m\u001b[43m \u001b[49m\u001b[43mMatrix3x3\u001b[49m\u001b[43m)\u001b[49m\u001b[43m \u001b[49m\u001b[38;5;241;43m-\u001b[39;49m\u001b[38;5;241;43m>\u001b[39;49m\u001b[43m \u001b[49m\u001b[38;5;28;43;01mNone\u001b[39;49;00m\u001b[43m:\u001b[49m\n\u001b[1;32m     30\u001b[0m \u001b[43m    \u001b[49m\u001b[38;5;28;43mprint\u001b[39;49m\u001b[43m(\u001b[49m\u001b[38;5;124;43m\"\u001b[39;49m\u001b[38;5;124;43mOk everything is fine\u001b[39;49m\u001b[38;5;124;43m\"\u001b[39;49m\u001b[43m)\u001b[49m\n\u001b[1;32m     33\u001b[0m test_fct(matrix)\n",
      "File \u001b[0;32m~/Library/Caches/pypoetry/virtualenvs/yggdrasil-L6iXRnE7-py3.12/lib/python3.12/site-packages/beartype/_decor/decorcache.py:77\u001b[0m, in \u001b[0;36mbeartype\u001b[0;34m(obj, conf)\u001b[0m\n\u001b[1;32m     62\u001b[0m \u001b[38;5;66;03m# Else, \"conf\" is a configuration.\u001b[39;00m\n\u001b[1;32m     63\u001b[0m \u001b[38;5;66;03m#\u001b[39;00m\n\u001b[1;32m     64\u001b[0m \u001b[38;5;66;03m# If passed an object to be decorated, this decorator is in decoration\u001b[39;00m\n\u001b[0;32m   (...)\u001b[0m\n\u001b[1;32m     74\u001b[0m \u001b[38;5;66;03m# here; callers that are doing this are sufficiently intelligent to be\u001b[39;00m\n\u001b[1;32m     75\u001b[0m \u001b[38;5;66;03m# trusted to violate PEP 561-compliance if they so choose. So... *shrug*\u001b[39;00m\n\u001b[1;32m     76\u001b[0m \u001b[38;5;28;01melif\u001b[39;00m obj \u001b[38;5;129;01mis\u001b[39;00m \u001b[38;5;129;01mnot\u001b[39;00m \u001b[38;5;28;01mNone\u001b[39;00m:\n\u001b[0;32m---> 77\u001b[0m     \u001b[38;5;28;01mreturn\u001b[39;00m \u001b[43mbeartype_object\u001b[49m\u001b[43m(\u001b[49m\u001b[43mobj\u001b[49m\u001b[43m,\u001b[49m\u001b[43m \u001b[49m\u001b[43mconf\u001b[49m\u001b[43m)\u001b[49m\n\u001b[1;32m     78\u001b[0m \u001b[38;5;66;03m# Else, we were passed *NO* object to be decorated. In this case, this\u001b[39;00m\n\u001b[1;32m     79\u001b[0m \u001b[38;5;66;03m# decorator is in configuration rather than decoration mode.\u001b[39;00m\n\u001b[1;32m     80\u001b[0m \n\u001b[0;32m   (...)\u001b[0m\n\u001b[1;32m     86\u001b[0m \u001b[38;5;66;03m# \"None\" otherwise (i.e., if this is the first call to this public\u001b[39;00m\n\u001b[1;32m     87\u001b[0m \u001b[38;5;66;03m# decorator passed this configuration in configuration mode). Phew!\u001b[39;00m\n\u001b[1;32m     88\u001b[0m beartype_confed_cached \u001b[38;5;241m=\u001b[39m _bear_conf_to_decor\u001b[38;5;241m.\u001b[39mget(conf)\n",
      "File \u001b[0;32m~/Library/Caches/pypoetry/virtualenvs/yggdrasil-L6iXRnE7-py3.12/lib/python3.12/site-packages/beartype/_decor/decorcore.py:83\u001b[0m, in \u001b[0;36mbeartype_object\u001b[0;34m(obj, conf, **kwargs)\u001b[0m\n\u001b[1;32m     47\u001b[0m \u001b[38;5;250m\u001b[39m\u001b[38;5;124;03m'''\u001b[39;00m\n\u001b[1;32m     48\u001b[0m \u001b[38;5;124;03mDecorate the passed **beartypeable** (i.e., caller-defined object that may\u001b[39;00m\n\u001b[1;32m     49\u001b[0m \u001b[38;5;124;03mbe decorated by the :func:`beartype.beartype` decorator) with optimal\u001b[39;00m\n\u001b[0;32m   (...)\u001b[0m\n\u001b[1;32m     77\u001b[0m \u001b[38;5;124;03m    Memoized parent decorator wrapping this unmemoized child decorator.\u001b[39;00m\n\u001b[1;32m     78\u001b[0m \u001b[38;5;124;03m'''\u001b[39;00m\n\u001b[1;32m     79\u001b[0m \u001b[38;5;66;03m# print(f'Decorating object {repr(obj)}...')\u001b[39;00m\n\u001b[1;32m     80\u001b[0m \n\u001b[1;32m     81\u001b[0m \u001b[38;5;66;03m# Return either...\u001b[39;00m\n\u001b[1;32m     82\u001b[0m \u001b[38;5;28;01mreturn\u001b[39;00m (\n\u001b[0;32m---> 83\u001b[0m     \u001b[43m_beartype_object_fatal\u001b[49m\u001b[43m(\u001b[49m\u001b[43mobj\u001b[49m\u001b[43m,\u001b[49m\u001b[43m \u001b[49m\u001b[43mconf\u001b[49m\u001b[38;5;241;43m=\u001b[39;49m\u001b[43mconf\u001b[49m\u001b[43m,\u001b[49m\u001b[43m \u001b[49m\u001b[38;5;241;43m*\u001b[39;49m\u001b[38;5;241;43m*\u001b[39;49m\u001b[43mkwargs\u001b[49m\u001b[43m)\u001b[49m\n\u001b[1;32m     84\u001b[0m     \u001b[38;5;66;03m# If this beartype configuration requests that this decorator raise\u001b[39;00m\n\u001b[1;32m     85\u001b[0m     \u001b[38;5;66;03m# fatal exceptions at decoration time, defer to the lower-level\u001b[39;00m\n\u001b[1;32m     86\u001b[0m     \u001b[38;5;66;03m# decorator doing so;\u001b[39;00m\n\u001b[1;32m     87\u001b[0m     \u001b[38;5;28;01mif\u001b[39;00m conf\u001b[38;5;241m.\u001b[39mwarning_cls_on_decorator_exception \u001b[38;5;129;01mis\u001b[39;00m \u001b[38;5;28;01mNone\u001b[39;00m \u001b[38;5;28;01melse\u001b[39;00m\n\u001b[1;32m     88\u001b[0m     \u001b[38;5;66;03m# Else, this beartype configuration requests that this decorator emit\u001b[39;00m\n\u001b[1;32m     89\u001b[0m     \u001b[38;5;66;03m# fatal warnings at decoration time. In this case, defer to the\u001b[39;00m\n\u001b[1;32m     90\u001b[0m     \u001b[38;5;66;03m# lower-level decorator doing so.\u001b[39;00m\n\u001b[1;32m     91\u001b[0m     _beartype_object_nonfatal(obj, conf\u001b[38;5;241m=\u001b[39mconf, \u001b[38;5;241m*\u001b[39m\u001b[38;5;241m*\u001b[39mkwargs)\n\u001b[1;32m     92\u001b[0m )\n",
      "File \u001b[0;32m~/Library/Caches/pypoetry/virtualenvs/yggdrasil-L6iXRnE7-py3.12/lib/python3.12/site-packages/beartype/_decor/decorcore.py:132\u001b[0m, in \u001b[0;36m_beartype_object_fatal\u001b[0;34m(obj, **kwargs)\u001b[0m\n\u001b[1;32m     96\u001b[0m \u001b[38;5;250m\u001b[39m\u001b[38;5;124;03m'''\u001b[39;00m\n\u001b[1;32m     97\u001b[0m \u001b[38;5;124;03mDecorate the passed **beartypeable** (i.e., caller-defined object that may\u001b[39;00m\n\u001b[1;32m     98\u001b[0m \u001b[38;5;124;03mbe decorated by the :func:`beartype.beartype` decorator) with optimal\u001b[39;00m\n\u001b[0;32m   (...)\u001b[0m\n\u001b[1;32m    122\u001b[0m \u001b[38;5;124;03m    Memoized parent decorator wrapping this unmemoized child decorator.\u001b[39;00m\n\u001b[1;32m    123\u001b[0m \u001b[38;5;124;03m'''\u001b[39;00m\n\u001b[1;32m    125\u001b[0m \u001b[38;5;66;03m# Return either...\u001b[39;00m\n\u001b[1;32m    126\u001b[0m \u001b[38;5;28;01mreturn\u001b[39;00m (\n\u001b[1;32m    127\u001b[0m     \u001b[38;5;66;03m# If this object is a class, this class decorated with type-checking.\u001b[39;00m\n\u001b[1;32m    128\u001b[0m     beartype_type(obj, \u001b[38;5;241m*\u001b[39m\u001b[38;5;241m*\u001b[39mkwargs)  \u001b[38;5;66;03m# type: ignore[return-value]\u001b[39;00m\n\u001b[1;32m    129\u001b[0m     \u001b[38;5;28;01mif\u001b[39;00m \u001b[38;5;28misinstance\u001b[39m(obj, \u001b[38;5;28mtype\u001b[39m) \u001b[38;5;28;01melse\u001b[39;00m\n\u001b[1;32m    130\u001b[0m     \u001b[38;5;66;03m# Else, this object is a non-class. In this case, this non-class\u001b[39;00m\n\u001b[1;32m    131\u001b[0m     \u001b[38;5;66;03m# decorated with type-checking.\u001b[39;00m\n\u001b[0;32m--> 132\u001b[0m     \u001b[43mbeartype_nontype\u001b[49m\u001b[43m(\u001b[49m\u001b[43mobj\u001b[49m\u001b[43m,\u001b[49m\u001b[43m \u001b[49m\u001b[38;5;241;43m*\u001b[39;49m\u001b[38;5;241;43m*\u001b[39;49m\u001b[43mkwargs\u001b[49m\u001b[43m)\u001b[49m  \u001b[38;5;66;03m# type: ignore[return-value]\u001b[39;00m\n\u001b[1;32m    133\u001b[0m )\n",
      "File \u001b[0;32m~/Library/Caches/pypoetry/virtualenvs/yggdrasil-L6iXRnE7-py3.12/lib/python3.12/site-packages/beartype/_decor/_decornontype.py:177\u001b[0m, in \u001b[0;36mbeartype_nontype\u001b[0;34m(obj, **kwargs)\u001b[0m\n\u001b[1;32m    172\u001b[0m     \u001b[38;5;28;01mreturn\u001b[39;00m beartype_func_contextlib_contextmanager(obj, \u001b[38;5;241m*\u001b[39m\u001b[38;5;241m*\u001b[39mkwargs)  \u001b[38;5;66;03m# type: ignore[return-value]\u001b[39;00m\n\u001b[1;32m    173\u001b[0m \u001b[38;5;66;03m# Else, this function is *NOT* a @contextlib.contextmanager-based isomorphic\u001b[39;00m\n\u001b[1;32m    174\u001b[0m \u001b[38;5;66;03m# decorator closure.\u001b[39;00m\n\u001b[1;32m    175\u001b[0m \n\u001b[1;32m    176\u001b[0m \u001b[38;5;66;03m# Return a new callable decorating that callable with type-checking.\u001b[39;00m\n\u001b[0;32m--> 177\u001b[0m \u001b[38;5;28;01mreturn\u001b[39;00m \u001b[43mbeartype_func\u001b[49m\u001b[43m(\u001b[49m\u001b[43mobj\u001b[49m\u001b[43m,\u001b[49m\u001b[43m \u001b[49m\u001b[38;5;241;43m*\u001b[39;49m\u001b[38;5;241;43m*\u001b[39;49m\u001b[43mkwargs\u001b[49m\u001b[43m)\u001b[49m\n",
      "File \u001b[0;32m~/Library/Caches/pypoetry/virtualenvs/yggdrasil-L6iXRnE7-py3.12/lib/python3.12/site-packages/beartype/_decor/_decornontype.py:242\u001b[0m, in \u001b[0;36mbeartype_func\u001b[0;34m(func, conf, **kwargs)\u001b[0m\n\u001b[1;32m    239\u001b[0m bear_call \u001b[38;5;241m=\u001b[39m make_beartype_call(func, conf, \u001b[38;5;241m*\u001b[39m\u001b[38;5;241m*\u001b[39mkwargs)  \u001b[38;5;66;03m# pyright: ignore[reportGeneralTypeIssues]\u001b[39;00m\n\u001b[1;32m    241\u001b[0m \u001b[38;5;66;03m# Generate the raw string of Python statements implementing this wrapper.\u001b[39;00m\n\u001b[0;32m--> 242\u001b[0m func_wrapper_code \u001b[38;5;241m=\u001b[39m \u001b[43mgenerate_code\u001b[49m\u001b[43m(\u001b[49m\u001b[43mbear_call\u001b[49m\u001b[43m)\u001b[49m\n\u001b[1;32m    244\u001b[0m \u001b[38;5;66;03m# If that callable requires *NO* type-checking, silently reduce to a noop\u001b[39;00m\n\u001b[1;32m    245\u001b[0m \u001b[38;5;66;03m# and thus the identity decorator by returning that callable as is.\u001b[39;00m\n\u001b[1;32m    246\u001b[0m \u001b[38;5;28;01mif\u001b[39;00m \u001b[38;5;129;01mnot\u001b[39;00m func_wrapper_code:\n",
      "File \u001b[0;32m~/Library/Caches/pypoetry/virtualenvs/yggdrasil-L6iXRnE7-py3.12/lib/python3.12/site-packages/beartype/_decor/wrap/wrapmain.py:186\u001b[0m, in \u001b[0;36mgenerate_code\u001b[0;34m(bear_call, CODE_RETURN_UNCHECKED_format)\u001b[0m\n\u001b[1;32m    180\u001b[0m \u001b[38;5;28;01massert\u001b[39;00m bear_call\u001b[38;5;241m.\u001b[39m\u001b[38;5;18m__class__\u001b[39m \u001b[38;5;129;01mis\u001b[39;00m BeartypeCall, (\n\u001b[1;32m    181\u001b[0m     \u001b[38;5;124mf\u001b[39m\u001b[38;5;124m'\u001b[39m\u001b[38;5;132;01m{\u001b[39;00m\u001b[38;5;28mrepr\u001b[39m(bear_call)\u001b[38;5;132;01m}\u001b[39;00m\u001b[38;5;124m not @beartype call.\u001b[39m\u001b[38;5;124m'\u001b[39m)\n\u001b[1;32m    183\u001b[0m \u001b[38;5;66;03m# Python code snippet type-checking all callable parameters if one or more\u001b[39;00m\n\u001b[1;32m    184\u001b[0m \u001b[38;5;66;03m# such parameters are annotated with unignorable type hints *OR* the empty\u001b[39;00m\n\u001b[1;32m    185\u001b[0m \u001b[38;5;66;03m# string otherwise.\u001b[39;00m\n\u001b[0;32m--> 186\u001b[0m code_check_params \u001b[38;5;241m=\u001b[39m \u001b[43m_code_check_args\u001b[49m\u001b[43m(\u001b[49m\u001b[43mbear_call\u001b[49m\u001b[43m)\u001b[49m\n\u001b[1;32m    188\u001b[0m \u001b[38;5;66;03m# Python code snippet type-checking the callable return if this return is\u001b[39;00m\n\u001b[1;32m    189\u001b[0m \u001b[38;5;66;03m# annotated with an unignorable type hint *OR* the empty string otherwise.\u001b[39;00m\n\u001b[1;32m    190\u001b[0m code_check_return \u001b[38;5;241m=\u001b[39m _code_check_return(bear_call)\n",
      "File \u001b[0;32m~/Library/Caches/pypoetry/virtualenvs/yggdrasil-L6iXRnE7-py3.12/lib/python3.12/site-packages/beartype/_decor/wrap/wrapmain.py:496\u001b[0m, in \u001b[0;36m_code_check_args\u001b[0;34m(bear_call)\u001b[0m\n\u001b[1;32m    491\u001b[0m     \u001b[38;5;66;03m# If any exception was raised, reraise this exception with each\u001b[39;00m\n\u001b[1;32m    492\u001b[0m     \u001b[38;5;66;03m# placeholder substring (i.e., \"EXCEPTION_PLACEHOLDER\" instance)\u001b[39;00m\n\u001b[1;32m    493\u001b[0m     \u001b[38;5;66;03m# replaced by a human-readable description of this callable and\u001b[39;00m\n\u001b[1;32m    494\u001b[0m     \u001b[38;5;66;03m# annotated parameter.\u001b[39;00m\n\u001b[1;32m    495\u001b[0m     \u001b[38;5;28;01mexcept\u001b[39;00m \u001b[38;5;167;01mException\u001b[39;00m \u001b[38;5;28;01mas\u001b[39;00m exception:\n\u001b[0;32m--> 496\u001b[0m         \u001b[43mreraise_exception_placeholder\u001b[49m\u001b[43m(\u001b[49m\n\u001b[1;32m    497\u001b[0m \u001b[43m            \u001b[49m\u001b[43mexception\u001b[49m\u001b[38;5;241;43m=\u001b[39;49m\u001b[43mexception\u001b[49m\u001b[43m,\u001b[49m\n\u001b[1;32m    498\u001b[0m \u001b[43m            \u001b[49m\u001b[38;5;66;43;03m#FIXME: Embed the kind of parameter as well (e.g.,\u001b[39;49;00m\n\u001b[1;32m    499\u001b[0m \u001b[43m            \u001b[49m\u001b[38;5;66;43;03m#\"positional-only\", \"keyword-only\", \"variadic positional\"),\u001b[39;49;00m\n\u001b[1;32m    500\u001b[0m \u001b[43m            \u001b[49m\u001b[38;5;66;43;03m#ideally by improving the existing prefix_beartypeable_arg()\u001b[39;49;00m\n\u001b[1;32m    501\u001b[0m \u001b[43m            \u001b[49m\u001b[38;5;66;43;03m#function to introspect this kind from the callable code object.\u001b[39;49;00m\n\u001b[1;32m    502\u001b[0m \u001b[43m            \u001b[49m\u001b[43mtarget_str\u001b[49m\u001b[38;5;241;43m=\u001b[39;49m\u001b[43mprefix_beartypeable_arg\u001b[49m\u001b[43m(\u001b[49m\n\u001b[1;32m    503\u001b[0m \u001b[43m                \u001b[49m\u001b[43mfunc\u001b[49m\u001b[38;5;241;43m=\u001b[39;49m\u001b[43mbear_call\u001b[49m\u001b[38;5;241;43m.\u001b[39;49m\u001b[43mfunc_wrappee\u001b[49m\u001b[43m,\u001b[49m\u001b[43m \u001b[49m\u001b[43marg_name\u001b[49m\u001b[38;5;241;43m=\u001b[39;49m\u001b[43marg_name\u001b[49m\u001b[43m)\u001b[49m\u001b[43m,\u001b[49m\n\u001b[1;32m    504\u001b[0m \u001b[43m        \u001b[49m\u001b[43m)\u001b[49m\n\u001b[1;32m    506\u001b[0m \u001b[38;5;66;03m# If this callable accepts one or more positional type-checked parameters,\u001b[39;00m\n\u001b[1;32m    507\u001b[0m \u001b[38;5;66;03m# prefix this code by a snippet localizing the number of these parameters.\u001b[39;00m\n\u001b[1;32m    508\u001b[0m \u001b[38;5;28;01mif\u001b[39;00m is_args_positional:\n",
      "File \u001b[0;32m~/Library/Caches/pypoetry/virtualenvs/yggdrasil-L6iXRnE7-py3.12/lib/python3.12/site-packages/beartype/_util/error/utilerrorraise.py:215\u001b[0m, in \u001b[0;36mreraise_exception_placeholder\u001b[0;34m(exception, target_str, source_str)\u001b[0m\n\u001b[1;32m    209\u001b[0m         exception\u001b[38;5;241m.\u001b[39margs \u001b[38;5;241m=\u001b[39m (exception_message,) \u001b[38;5;241m+\u001b[39m exception\u001b[38;5;241m.\u001b[39margs[\u001b[38;5;241m1\u001b[39m:]\n\u001b[1;32m    210\u001b[0m     \u001b[38;5;66;03m# Else, this message remains preserved as is.\u001b[39;00m\n\u001b[1;32m    211\u001b[0m \u001b[38;5;66;03m# Else, this is an unconventional exception. In this case, preserve this\u001b[39;00m\n\u001b[1;32m    212\u001b[0m \u001b[38;5;66;03m# exception as is.\u001b[39;00m\n\u001b[1;32m    213\u001b[0m \n\u001b[1;32m    214\u001b[0m \u001b[38;5;66;03m# Re-raise this exception while preserving its original traceback.\u001b[39;00m\n\u001b[0;32m--> 215\u001b[0m \u001b[38;5;28;01mraise\u001b[39;00m exception\u001b[38;5;241m.\u001b[39mwith_traceback(exception\u001b[38;5;241m.\u001b[39m__traceback__)\n",
      "File \u001b[0;32m~/Library/Caches/pypoetry/virtualenvs/yggdrasil-L6iXRnE7-py3.12/lib/python3.12/site-packages/beartype/_decor/wrap/wrapmain.py:400\u001b[0m, in \u001b[0;36m_code_check_args\u001b[0;34m(bear_call)\u001b[0m\n\u001b[1;32m    390\u001b[0m     \u001b[38;5;28;01mcontinue\u001b[39;00m\n\u001b[1;32m    391\u001b[0m \u001b[38;5;66;03m# Else, this parameter is non-ignorable.\u001b[39;00m\n\u001b[1;32m    392\u001b[0m \n\u001b[1;32m    393\u001b[0m \u001b[38;5;66;03m#FIXME: Definitely the wrong way around. This should simply be\u001b[39;00m\n\u001b[0;32m   (...)\u001b[0m\n\u001b[1;32m    398\u001b[0m \u001b[38;5;66;03m# readily consumable by @beartype's code generator *BEFORE* passing\u001b[39;00m\n\u001b[1;32m    399\u001b[0m \u001b[38;5;66;03m# this hint to any further callables.\u001b[39;00m\n\u001b[0;32m--> 400\u001b[0m hint_sane \u001b[38;5;241m=\u001b[39m \u001b[43msanify_hint_root_func\u001b[49m\u001b[43m(\u001b[49m\n\u001b[1;32m    401\u001b[0m \u001b[43m    \u001b[49m\u001b[43mhint\u001b[49m\u001b[38;5;241;43m=\u001b[39;49m\u001b[43mhint\u001b[49m\u001b[43m,\u001b[49m\u001b[43m \u001b[49m\u001b[43mpith_name\u001b[49m\u001b[38;5;241;43m=\u001b[39;49m\u001b[43marg_name\u001b[49m\u001b[43m,\u001b[49m\u001b[43m \u001b[49m\u001b[43mbear_call\u001b[49m\u001b[38;5;241;43m=\u001b[39;49m\u001b[43mbear_call\u001b[49m\u001b[43m)\u001b[49m\n\u001b[1;32m    403\u001b[0m \u001b[38;5;66;03m# If this hint is ignorable, continue to the next parameter.\u001b[39;00m\n\u001b[1;32m    404\u001b[0m \u001b[38;5;66;03m#\u001b[39;00m\n\u001b[1;32m    405\u001b[0m \u001b[38;5;66;03m# Note that this is intentionally tested *AFTER* this hint has been\u001b[39;00m\n\u001b[1;32m    406\u001b[0m \u001b[38;5;66;03m# coerced into a PEP-compliant type hint to implicitly ignore\u001b[39;00m\n\u001b[1;32m    407\u001b[0m \u001b[38;5;66;03m# PEP-noncompliant type hints as well (e.g., \"(object, int, str)\").\u001b[39;00m\n\u001b[1;32m    408\u001b[0m \u001b[38;5;28;01mif\u001b[39;00m is_hint_ignorable(hint_sane):\n\u001b[1;32m    409\u001b[0m     \u001b[38;5;66;03m# print(f'Ignoring {bear_call.func_name} parameter {arg_name} hint {repr(hint)}...')\u001b[39;00m\n",
      "File \u001b[0;32m~/Library/Caches/pypoetry/virtualenvs/yggdrasil-L6iXRnE7-py3.12/lib/python3.12/site-packages/beartype/_check/convert/convsanify.py:177\u001b[0m, in \u001b[0;36msanify_hint_root_func\u001b[0;34m(hint, pith_name, bear_call, exception_prefix)\u001b[0m\n\u001b[1;32m    149\u001b[0m     hint \u001b[38;5;241m=\u001b[39m reduce_hint_pep484585_func_return(\n\u001b[1;32m    150\u001b[0m         func\u001b[38;5;241m=\u001b[39mbear_call\u001b[38;5;241m.\u001b[39mfunc_wrappee, exception_prefix\u001b[38;5;241m=\u001b[39mexception_prefix)\n\u001b[1;32m    151\u001b[0m \u001b[38;5;66;03m# Else, this hint annotates a parameter.\u001b[39;00m\n\u001b[1;32m    152\u001b[0m \n\u001b[1;32m    153\u001b[0m \u001b[38;5;66;03m# Reduce this hint to a lower-level PEP-compliant type hint if this hint is\u001b[39;00m\n\u001b[0;32m   (...)\u001b[0m\n\u001b[1;32m    175\u001b[0m \u001b[38;5;66;03m# Note that parameters are intentionally passed positionally to both\u001b[39;00m\n\u001b[1;32m    176\u001b[0m \u001b[38;5;66;03m# optimize memoization efficiency and circumvent memoization warnings.\u001b[39;00m\n\u001b[0;32m--> 177\u001b[0m hint \u001b[38;5;241m=\u001b[39m \u001b[43mreduce_hint\u001b[49m\u001b[43m(\u001b[49m\n\u001b[1;32m    178\u001b[0m \u001b[43m    \u001b[49m\u001b[43mhint\u001b[49m\u001b[38;5;241;43m=\u001b[39;49m\u001b[43mhint\u001b[49m\u001b[43m,\u001b[49m\n\u001b[1;32m    179\u001b[0m \u001b[43m    \u001b[49m\u001b[43mconf\u001b[49m\u001b[38;5;241;43m=\u001b[39;49m\u001b[43mbear_call\u001b[49m\u001b[38;5;241;43m.\u001b[39;49m\u001b[43mconf\u001b[49m\u001b[43m,\u001b[49m\n\u001b[1;32m    180\u001b[0m \u001b[43m    \u001b[49m\u001b[43mcls_stack\u001b[49m\u001b[38;5;241;43m=\u001b[39;49m\u001b[43mbear_call\u001b[49m\u001b[38;5;241;43m.\u001b[39;49m\u001b[43mcls_stack\u001b[49m\u001b[43m,\u001b[49m\n\u001b[1;32m    181\u001b[0m \u001b[43m    \u001b[49m\u001b[43mpith_name\u001b[49m\u001b[38;5;241;43m=\u001b[39;49m\u001b[43mpith_name\u001b[49m\u001b[43m,\u001b[49m\n\u001b[1;32m    182\u001b[0m \u001b[43m    \u001b[49m\u001b[43mexception_prefix\u001b[49m\u001b[38;5;241;43m=\u001b[39;49m\u001b[43mexception_prefix\u001b[49m\u001b[43m,\u001b[49m\n\u001b[1;32m    183\u001b[0m \u001b[43m\u001b[49m\u001b[43m)\u001b[49m\n\u001b[1;32m    185\u001b[0m \u001b[38;5;66;03m# Return this sanified hint.\u001b[39;00m\n\u001b[1;32m    186\u001b[0m \u001b[38;5;28;01mreturn\u001b[39;00m hint\n",
      "File \u001b[0;32m~/Library/Caches/pypoetry/virtualenvs/yggdrasil-L6iXRnE7-py3.12/lib/python3.12/site-packages/beartype/_check/convert/convreduce.py:147\u001b[0m, in \u001b[0;36mreduce_hint\u001b[0;34m(hint, conf, cls_stack, pith_name, exception_prefix)\u001b[0m\n\u001b[1;32m     88\u001b[0m \u001b[38;5;250m\u001b[39m\u001b[38;5;124;03m'''\u001b[39;00m\n\u001b[1;32m     89\u001b[0m \u001b[38;5;124;03mLower-level type hint reduced (i.e., converted) from the passed higher-level\u001b[39;00m\n\u001b[1;32m     90\u001b[0m \u001b[38;5;124;03mtype hint if this hint is reducible *or* this hint as is otherwise (i.e., if\u001b[39;00m\n\u001b[0;32m   (...)\u001b[0m\n\u001b[1;32m    137\u001b[0m \u001b[38;5;124;03m    * Else, this hint as is unmodified.\u001b[39;00m\n\u001b[1;32m    138\u001b[0m \u001b[38;5;124;03m'''\u001b[39;00m\n\u001b[1;32m    140\u001b[0m \u001b[38;5;66;03m# This possibly contextual hint inefficiently reduced to another hint.\u001b[39;00m\n\u001b[1;32m    141\u001b[0m \u001b[38;5;66;03m#\u001b[39;00m\n\u001b[1;32m    142\u001b[0m \u001b[38;5;66;03m# Note that we intentionally reduce lower-level contextual hints *BEFORE*\u001b[39;00m\n\u001b[0;32m   (...)\u001b[0m\n\u001b[1;32m    145\u001b[0m \u001b[38;5;66;03m# interactions between these two reductions. To reduce the likelihood of\u001b[39;00m\n\u001b[1;32m    146\u001b[0m \u001b[38;5;66;03m# fire-breathing dragons, we reduce lower-level hints first.\u001b[39;00m\n\u001b[0;32m--> 147\u001b[0m hint \u001b[38;5;241m=\u001b[39m \u001b[43m_reduce_hint_uncached\u001b[49m\u001b[43m(\u001b[49m\n\u001b[1;32m    148\u001b[0m \u001b[43m    \u001b[49m\u001b[43mhint\u001b[49m\u001b[38;5;241;43m=\u001b[39;49m\u001b[43mhint\u001b[49m\u001b[43m,\u001b[49m\n\u001b[1;32m    149\u001b[0m \u001b[43m    \u001b[49m\u001b[43mconf\u001b[49m\u001b[38;5;241;43m=\u001b[39;49m\u001b[43mconf\u001b[49m\u001b[43m,\u001b[49m\n\u001b[1;32m    150\u001b[0m \u001b[43m    \u001b[49m\u001b[43mpith_name\u001b[49m\u001b[38;5;241;43m=\u001b[39;49m\u001b[43mpith_name\u001b[49m\u001b[43m,\u001b[49m\n\u001b[1;32m    151\u001b[0m \u001b[43m    \u001b[49m\u001b[43mcls_stack\u001b[49m\u001b[38;5;241;43m=\u001b[39;49m\u001b[43mcls_stack\u001b[49m\u001b[43m,\u001b[49m\n\u001b[1;32m    152\u001b[0m \u001b[43m    \u001b[49m\u001b[43mexception_prefix\u001b[49m\u001b[38;5;241;43m=\u001b[39;49m\u001b[43mexception_prefix\u001b[49m\u001b[43m,\u001b[49m\n\u001b[1;32m    153\u001b[0m \u001b[43m\u001b[49m\u001b[43m)\u001b[49m\n\u001b[1;32m    155\u001b[0m \u001b[38;5;66;03m# This possibly context-free hint efficiently reduced to another hint.\u001b[39;00m\n\u001b[1;32m    156\u001b[0m hint \u001b[38;5;241m=\u001b[39m _reduce_hint_cached(hint, conf, exception_prefix)\n",
      "File \u001b[0;32m~/Library/Caches/pypoetry/virtualenvs/yggdrasil-L6iXRnE7-py3.12/lib/python3.12/site-packages/beartype/_check/convert/convreduce.py:213\u001b[0m, in \u001b[0;36m_reduce_hint_uncached\u001b[0;34m(hint, conf, cls_stack, pith_name, exception_prefix)\u001b[0m\n\u001b[1;32m    169\u001b[0m \u001b[38;5;250m\u001b[39m\u001b[38;5;124;03m'''\u001b[39;00m\n\u001b[1;32m    170\u001b[0m \u001b[38;5;124;03mLower-level **contextual type hint** (i.e., type hint contextually dependent\u001b[39;00m\n\u001b[1;32m    171\u001b[0m \u001b[38;5;124;03mon the kind of class, attribute, callable parameter, or callable return\u001b[39;00m\n\u001b[0;32m   (...)\u001b[0m\n\u001b[1;32m    208\u001b[0m \u001b[38;5;124;03m    * Else, this hint as is unmodified.\u001b[39;00m\n\u001b[1;32m    209\u001b[0m \u001b[38;5;124;03m'''\u001b[39;00m\n\u001b[1;32m    211\u001b[0m \u001b[38;5;66;03m# Sign uniquely identifying this hint if this hint is identifiable *OR*\u001b[39;00m\n\u001b[1;32m    212\u001b[0m \u001b[38;5;66;03m# \"None\" otherwise.\u001b[39;00m\n\u001b[0;32m--> 213\u001b[0m hint_sign \u001b[38;5;241m=\u001b[39m \u001b[43mget_hint_pep_sign_or_none\u001b[49m\u001b[43m(\u001b[49m\u001b[43mhint\u001b[49m\u001b[43m)\u001b[49m\n\u001b[1;32m    215\u001b[0m \u001b[38;5;66;03m# Callable reducing this hint if a callable reducing hints of this sign was\u001b[39;00m\n\u001b[1;32m    216\u001b[0m \u001b[38;5;66;03m# previously registered *OR* \"None\" otherwise (i.e., if *NO* such callable\u001b[39;00m\n\u001b[1;32m    217\u001b[0m \u001b[38;5;66;03m# was registered, in which case this hint is preserved as is).\u001b[39;00m\n\u001b[1;32m    218\u001b[0m hint_reducer \u001b[38;5;241m=\u001b[39m _HINT_SIGN_TO_REDUCE_HINT_UNCACHED\u001b[38;5;241m.\u001b[39mget(hint_sign)\n",
      "File \u001b[0;32m~/Library/Caches/pypoetry/virtualenvs/yggdrasil-L6iXRnE7-py3.12/lib/python3.12/site-packages/beartype/_util/cache/utilcachecall.py:259\u001b[0m, in \u001b[0;36mcallable_cached.<locals>._callable_cached\u001b[0;34m(*args)\u001b[0m\n\u001b[1;32m    256\u001b[0m         args_flat_to_exception[args_flat] \u001b[38;5;241m=\u001b[39m exception\n\u001b[1;32m    258\u001b[0m         \u001b[38;5;66;03m# Re-raise this exception.\u001b[39;00m\n\u001b[0;32m--> 259\u001b[0m         \u001b[38;5;28;01mraise\u001b[39;00m exception\n\u001b[1;32m    260\u001b[0m \u001b[38;5;66;03m# If one or more objects either passed to *OR* returned from this call\u001b[39;00m\n\u001b[1;32m    261\u001b[0m \u001b[38;5;66;03m# are unhashable, perform this call as is *WITHOUT* memoization. While\u001b[39;00m\n\u001b[1;32m    262\u001b[0m \u001b[38;5;66;03m# non-ideal, stability is better than raising a fatal exception.\u001b[39;00m\n\u001b[1;32m    263\u001b[0m \u001b[38;5;28;01mexcept\u001b[39;00m \u001b[38;5;167;01mTypeError\u001b[39;00m:\n\u001b[1;32m    264\u001b[0m     \u001b[38;5;66;03m#FIXME: If testing, emit a non-fatal warning or possibly even raise\u001b[39;00m\n\u001b[1;32m    265\u001b[0m     \u001b[38;5;66;03m#a fatal exception. In either case, we want our test suite to notify\u001b[39;00m\n\u001b[1;32m    266\u001b[0m     \u001b[38;5;66;03m#us about this.\u001b[39;00m\n",
      "File \u001b[0;32m~/Library/Caches/pypoetry/virtualenvs/yggdrasil-L6iXRnE7-py3.12/lib/python3.12/site-packages/beartype/_util/cache/utilcachecall.py:251\u001b[0m, in \u001b[0;36mcallable_cached.<locals>._callable_cached\u001b[0;34m(*args)\u001b[0m\n\u001b[1;32m    245\u001b[0m \u001b[38;5;66;03m# Else, this callable has yet to be called with these parameters.\u001b[39;00m\n\u001b[1;32m    246\u001b[0m \n\u001b[1;32m    247\u001b[0m \u001b[38;5;66;03m# Attempt to...\u001b[39;00m\n\u001b[1;32m    248\u001b[0m \u001b[38;5;28;01mtry\u001b[39;00m:\n\u001b[1;32m    249\u001b[0m     \u001b[38;5;66;03m# Call this parameter with these parameters and cache the value\u001b[39;00m\n\u001b[1;32m    250\u001b[0m     \u001b[38;5;66;03m# returned by this call to these parameters.\u001b[39;00m\n\u001b[0;32m--> 251\u001b[0m     return_value \u001b[38;5;241m=\u001b[39m args_flat_to_return_value[args_flat] \u001b[38;5;241m=\u001b[39m \u001b[43mfunc\u001b[49m\u001b[43m(\u001b[49m\n\u001b[1;32m    252\u001b[0m \u001b[43m        \u001b[49m\u001b[38;5;241;43m*\u001b[39;49m\u001b[43margs\u001b[49m\u001b[43m)\u001b[49m\n\u001b[1;32m    253\u001b[0m \u001b[38;5;66;03m# If this call raised an exception...\u001b[39;00m\n\u001b[1;32m    254\u001b[0m \u001b[38;5;28;01mexcept\u001b[39;00m \u001b[38;5;167;01mException\u001b[39;00m \u001b[38;5;28;01mas\u001b[39;00m exception:\n\u001b[1;32m    255\u001b[0m     \u001b[38;5;66;03m# Cache this exception to these parameters.\u001b[39;00m\n",
      "File \u001b[0;32m~/Library/Caches/pypoetry/virtualenvs/yggdrasil-L6iXRnE7-py3.12/lib/python3.12/site-packages/beartype/_util/hint/pep/utilpepget.py:721\u001b[0m, in \u001b[0;36mget_hint_pep_sign_or_none\u001b[0;34m(hint)\u001b[0m\n\u001b[1;32m    702\u001b[0m     \u001b[38;5;28;01mreturn\u001b[39;00m HintSignNewType\n\u001b[1;32m    704\u001b[0m \u001b[38;5;66;03m# ..................{ ERROR                              }..................\u001b[39;00m\n\u001b[1;32m    705\u001b[0m \u001b[38;5;66;03m# Else, this hint is unrecognized. In this case, this hint is of unknown\u001b[39;00m\n\u001b[1;32m    706\u001b[0m \u001b[38;5;66;03m# third-party origin and provenance.\u001b[39;00m\n\u001b[0;32m   (...)\u001b[0m\n\u001b[1;32m    719\u001b[0m \u001b[38;5;66;03m#   third-party type hint factories), which are all guaranteed to be\u001b[39;00m\n\u001b[1;32m    720\u001b[0m \u001b[38;5;66;03m#   consistent with respect to PEP 604.\u001b[39;00m\n\u001b[0;32m--> 721\u001b[0m \u001b[43mdie_if_hint_pep604_inconsistent\u001b[49m\u001b[43m(\u001b[49m\u001b[43mhint\u001b[49m\u001b[43m)\u001b[49m\n\u001b[1;32m    722\u001b[0m \u001b[38;5;66;03m# Else, this hint is consistent with respect to PEP 604-style new unions.\u001b[39;00m\n\u001b[1;32m    723\u001b[0m \n\u001b[1;32m    724\u001b[0m \u001b[38;5;66;03m#FIXME: Unit test us up, please.\u001b[39;00m\n\u001b[0;32m   (...)\u001b[0m\n\u001b[1;32m    731\u001b[0m \u001b[38;5;66;03m# conveys substantially less semantics and would imply this object to be an\u001b[39;00m\n\u001b[1;32m    732\u001b[0m \u001b[38;5;66;03m# isinstanceable class, which subscripted builtin type hints are *NOT*.\u001b[39;00m\n\u001b[1;32m    733\u001b[0m \u001b[38;5;28;01mif\u001b[39;00m is_hint_pep585_builtin_subscripted(hint):\n",
      "File \u001b[0;32m~/Library/Caches/pypoetry/virtualenvs/yggdrasil-L6iXRnE7-py3.12/lib/python3.12/site-packages/beartype/_util/hint/pep/proposal/utilpep604.py:71\u001b[0m, in \u001b[0;36mdie_if_hint_pep604_inconsistent\u001b[0;34m(hint)\u001b[0m\n\u001b[1;32m     68\u001b[0m \u001b[38;5;66;03m# If the representation of this new union is *NOT* prefixed by the\u001b[39;00m\n\u001b[1;32m     69\u001b[0m \u001b[38;5;66;03m# representation of this hint, raise an exception.\u001b[39;00m\n\u001b[1;32m     70\u001b[0m \u001b[38;5;28;01mif\u001b[39;00m \u001b[38;5;129;01mnot\u001b[39;00m hint_pep604_repr\u001b[38;5;241m.\u001b[39mstartswith(hint_repr):\n\u001b[0;32m---> 71\u001b[0m     \u001b[38;5;28;01mraise\u001b[39;00m BeartypeDecorHintPep604Exception(\n\u001b[1;32m     72\u001b[0m         \u001b[38;5;124mf\u001b[39m\u001b[38;5;124m'\u001b[39m\u001b[38;5;124mType hint \u001b[39m\u001b[38;5;132;01m{\u001b[39;00mhint_repr\u001b[38;5;132;01m}\u001b[39;00m\u001b[38;5;124m inconsistent with respect to \u001b[39m\u001b[38;5;124m'\u001b[39m\n\u001b[1;32m     73\u001b[0m         \u001b[38;5;124mf\u001b[39m\u001b[38;5;124m'\u001b[39m\u001b[38;5;124mrepr() strings. Since @beartype requires consistency \u001b[39m\u001b[38;5;124m'\u001b[39m\n\u001b[1;32m     74\u001b[0m         \u001b[38;5;124mf\u001b[39m\u001b[38;5;124m'\u001b[39m\u001b[38;5;124mbetween type hints and repr() strings, this hint is \u001b[39m\u001b[38;5;124m'\u001b[39m\n\u001b[1;32m     75\u001b[0m         \u001b[38;5;124mf\u001b[39m\u001b[38;5;124m'\u001b[39m\u001b[38;5;124munsupported by @beartype. Consider reporting this issue \u001b[39m\u001b[38;5;124m'\u001b[39m\n\u001b[1;32m     76\u001b[0m         \u001b[38;5;124mf\u001b[39m\u001b[38;5;124m'\u001b[39m\u001b[38;5;124mto the third-party developer implementing this hint: e.g.,\u001b[39m\u001b[38;5;130;01m\\n\u001b[39;00m\u001b[38;5;124m'\u001b[39m\n\u001b[1;32m     77\u001b[0m         \u001b[38;5;124mf\u001b[39m\u001b[38;5;124m'\u001b[39m\u001b[38;5;130;01m\\t\u001b[39;00m\u001b[38;5;124m>>> repr(\u001b[39m\u001b[38;5;132;01m{\u001b[39;00mhint_repr\u001b[38;5;132;01m}\u001b[39;00m\u001b[38;5;124m)\u001b[39m\u001b[38;5;130;01m\\n\u001b[39;00m\u001b[38;5;124m'\u001b[39m\n\u001b[1;32m     78\u001b[0m         \u001b[38;5;124mf\u001b[39m\u001b[38;5;124m'\u001b[39m\u001b[38;5;130;01m\\t\u001b[39;00m\u001b[38;5;132;01m{\u001b[39;00mhint_repr\u001b[38;5;132;01m}\u001b[39;00m\u001b[38;5;124m  # <-- this is fine\u001b[39m\u001b[38;5;130;01m\\n\u001b[39;00m\u001b[38;5;124m'\u001b[39m\n\u001b[1;32m     79\u001b[0m         \u001b[38;5;124mf\u001b[39m\u001b[38;5;124m'\u001b[39m\u001b[38;5;130;01m\\t\u001b[39;00m\u001b[38;5;124m>>> repr(\u001b[39m\u001b[38;5;132;01m{\u001b[39;00mhint_repr\u001b[38;5;132;01m}\u001b[39;00m\u001b[38;5;124m | int)\u001b[39m\u001b[38;5;130;01m\\n\u001b[39;00m\u001b[38;5;124m'\u001b[39m\n\u001b[1;32m     80\u001b[0m         \u001b[38;5;124mf\u001b[39m\u001b[38;5;124m'\u001b[39m\u001b[38;5;130;01m\\t\u001b[39;00m\u001b[38;5;132;01m{\u001b[39;00mhint_pep604_repr\u001b[38;5;132;01m}\u001b[39;00m\u001b[38;5;124m  # <-- *THIS IS REALLY SUPER BAD*\u001b[39m\u001b[38;5;130;01m\\n\u001b[39;00m\u001b[38;5;124m'\u001b[39m\n\u001b[1;32m     81\u001b[0m         \u001b[38;5;124mf\u001b[39m\u001b[38;5;124m'\u001b[39m\u001b[38;5;130;01m\\n\u001b[39;00m\u001b[38;5;124m'\u001b[39m\n\u001b[1;32m     82\u001b[0m         \u001b[38;5;124mf\u001b[39m\u001b[38;5;124m'\u001b[39m\u001b[38;5;130;01m\\t\u001b[39;00m\u001b[38;5;124m# Ideally, that output should instead resemble:\u001b[39m\u001b[38;5;130;01m\\n\u001b[39;00m\u001b[38;5;124m'\u001b[39m\n\u001b[1;32m     83\u001b[0m         \u001b[38;5;124mf\u001b[39m\u001b[38;5;124m'\u001b[39m\u001b[38;5;130;01m\\t\u001b[39;00m\u001b[38;5;124m>>> repr(\u001b[39m\u001b[38;5;132;01m{\u001b[39;00mhint_repr\u001b[38;5;132;01m}\u001b[39;00m\u001b[38;5;124m | int)\u001b[39m\u001b[38;5;130;01m\\n\u001b[39;00m\u001b[38;5;124m'\u001b[39m\n\u001b[1;32m     84\u001b[0m         \u001b[38;5;124mf\u001b[39m\u001b[38;5;124m'\u001b[39m\u001b[38;5;130;01m\\t\u001b[39;00m\u001b[38;5;132;01m{\u001b[39;00mhint_repr\u001b[38;5;132;01m}\u001b[39;00m\u001b[38;5;124m | int  # <-- what @beartype wants!\u001b[39m\u001b[38;5;124m'\u001b[39m\n\u001b[1;32m     85\u001b[0m     )\n",
      "\u001b[0;31mBeartypeDecorHintPep604Exception\u001b[0m: Type hint NDArray[Shape['3, 3'], Float] inconsistent with respect to repr() strings. Since @beartype requires consistency between type hints and repr() strings, this hint is unsupported by @beartype. Consider reporting this issue to the third-party developer implementing this hint: e.g.,\n\t>>> repr(NDArray[Shape['3, 3'], Float])\n\tNDArray[Shape['3, 3'], Float]  # <-- this is fine\n\t>>> repr(NDArray[Shape['3, 3'], Float] | int)\n\tnptyping.ndarray.NDArray | int  # <-- *THIS IS REALLY SUPER BAD*\n\n\t# Ideally, that output should instead resemble:\n\t>>> repr(NDArray[Shape['3, 3'], Float] | int)\n\tNDArray[Shape['3, 3'], Float] | int  # <-- what @beartype wants!"
     ]
    }
   ],
   "source": [
    "import numpy as np\n",
    "from nptyping import NDArray, Float, Shape\n",
    "from beartype import beartype\n",
    "\n",
    "# Define a type alias for a 3x3 numerical matrix\n",
    "Matrix3x3 = NDArray[Shape[\"3, 3\"], Float]\n",
    "\n",
    "# Example function using the type hint\n",
    "def create_3x3_matrix() -> Matrix3x3:\n",
    "    \"\"\"\n",
    "    Creates and returns a 3x3 numerical matrix.\n",
    "\n",
    "    Returns:\n",
    "        Matrix3x3: A 3x3 numerical matrix.\n",
    "    \"\"\"\n",
    "    matrix: Matrix3x3 = np.array([[1.0, 2.0, 3.0],\n",
    "                                  [4.0, 5.0, 6.0],\n",
    "                                  [7.0, 8.0, 9.0]], dtype=np.float64)\n",
    "    return matrix\n",
    "\n",
    "# Example usage\n",
    "matrix = create_3x3_matrix()\n",
    "print(matrix)\n",
    "\n",
    "# Validate the type and shape of the matrix\n",
    "assert matrix.shape == (3, 3) and matrix.dtype == np.float64\n",
    "\n",
    "@beartype\n",
    "def test_fct(matrix: Matrix3x3) -> None:\n",
    "    print(\"Ok everything is fine\")\n",
    "\n",
    "\n",
    "test_fct(matrix)"
   ]
  }
 ],
 "metadata": {
  "kernelspec": {
   "display_name": "yggdrasil-L6iXRnE7-py3.12",
   "language": "python",
   "name": "python3"
  },
  "language_info": {
   "codemirror_mode": {
    "name": "ipython",
    "version": 3
   },
   "file_extension": ".py",
   "mimetype": "text/x-python",
   "name": "python",
   "nbconvert_exporter": "python",
   "pygments_lexer": "ipython3",
   "version": "3.12.0"
  }
 },
 "nbformat": 4,
 "nbformat_minor": 2
}
